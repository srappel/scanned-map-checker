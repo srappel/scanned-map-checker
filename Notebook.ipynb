{
 "cells": [
  {
   "cell_type": "markdown",
   "metadata": {},
   "source": [
    "# Scanned Map Checker V2\n",
    "\n",
    "This is for checking scans at the AGSL.\n",
    "\n",
    "## Things to Check:\n",
    "\n",
    "* Check for missing scans by checking the scan numbers\n",
    "* Check for improper suffix\n",
    "     * 002 but no 001 or other gaps in sets\n",
    "     * s2 but no s1 and/or full image\n",
    "     * b with no a\n",
    "     * wrong number of digits in scan number\n",
    "     * _d with no _c\n",
    "\n",
    "Process:\n",
    "1. Define a directory to search\n",
    "1. Is search recursive?\n",
    "1. When error is found\n",
    "    * Print type of error\n",
    "    * What is exepcted, what was found\n",
    "    * Full path to error\n",
    "1. Log errors to file so they don't get lost\n",
    "\n",
    "TODO:\n",
    "\n",
    "[ ] Define types of errors\n",
    "[ ] Use regular expression for pattern matching\n"
   ]
  },
  {
   "cell_type": "code",
   "execution_count": null,
   "metadata": {},
   "outputs": [],
   "source": [
    "import re\n",
    "from pathlib import Path"
   ]
  },
  {
   "cell_type": "code",
   "execution_count": 87,
   "metadata": {},
   "outputs": [
    {
     "name": "stdout",
     "output_type": "stream",
     "text": [
      "S:\\_R_GML_Archival_AGSL\\Image_Archive\\am - Maps\n"
     ]
    }
   ],
   "source": [
    "# Define the directory to search and determine if it's recursive\n",
    "RECURSIVE = False\n",
    "SEARCH_PATH = Path(r'S:\\_R_GML_Archival_AGSL\\Image_Archive\\am - Maps')\n",
    "\n",
    "print(SEARCH_PATH)"
   ]
  },
  {
   "cell_type": "code",
   "execution_count": 88,
   "metadata": {},
   "outputs": [],
   "source": [
    "# List files and dirs in a directory \n",
    "def listFiles(path):\n",
    "    if RECURSIVE: p = path.rglob('*')\n",
    "    else: p = path.glob('*')\n",
    "    files = []\n",
    "    dirs = []\n",
    "    for x in p:\n",
    "        if x.is_file():\n",
    "            files.append(x)\n",
    "        elif x.is_dir():\n",
    "            dirs.append(x)\n",
    "\n",
    "    return files, dirs\n",
    "\n",
    "file_list, dir_list = listFiles(SEARCH_PATH)"
   ]
  },
  {
   "cell_type": "code",
   "execution_count": 93,
   "metadata": {},
   "outputs": [
    {
     "name": "stdout",
     "output_type": "stream",
     "text": [
      "Dirs found: 33\n",
      "Files Found: 1\n"
     ]
    }
   ],
   "source": [
    "print(\"Dirs found:\", len(dir_list))\n",
    "print(\"Files Found:\", len(file_list))\n",
    "# for file in file_list: print(file)\n",
    "# for dir in dir_list: print(dir)"
   ]
  },
  {
   "cell_type": "code",
   "execution_count": null,
   "metadata": {},
   "outputs": [],
   "source": [
    "class re_string(dict):\n",
    "    agsmap_scan_number: str = '(agsmap|am)(\\d{6})(_?.*)(\\.tif|\\.jpg)' # If it doesn't match this, it's not properly formed. Check for special case.\n",
    "    # Group 1 is prefix am or agsmap\n",
    "    # Group 2 is 6 digit scan number\n",
    "    # Group 3 is all suffixes\n",
    "    # Group 4 is the file extension if .tif or .jpg\n",
    "\n",
    "    # Standardized suffixes\n",
    "    sheet: str = r'_\\d{3}' # Always 3 digits\n",
    "    copy: str = r'_c\\d+' # usually one digit, but could be more like _c2, _c3, ..., _c15\n",
    "    side: str = r'_\\w(?=_|\\b)' # Positive lookahead assertion that the single char is followed by _ or \\b (word boundary, includes '.' from .tif) (see courage, reduced, and badscan special case)\n",
    "    stitch: str = r'_s\\d+' # Always 's' followed by int\n",
    "    \n",
    "    # Warning Cases\n",
    "    courage: str = r'(c(?!=\\d+))' # 'c' only (This is *ocassionally* used as a \"third\" side, e.g. _a, _b, _c, _d)\n",
    "    reduced: str = r'(_d(?!=\\d+))' # '_d' only (This indicates a \"reduced size\" but see above)\n",
    "    badscan: str = r'(b(?!=\\d+))' # 'b' only (This indicates a \"bad scan\" in 'am000000' system but see 2 above)\n",
    "    legacy: str = r'(?<!_)[ad-z](?!=\\d+)' # This will catch any \"all suffixes\" string that is one lowercase char other than 'b' or 'c' common in 'am000000' system.\n",
    "    duplicate: str = r'(\\(\\d\\))' # Likely a windows-generated filename e.g. `agsmap030406 (2).tif`, indicates improper image overwrite.\n",
    "    sg: str = r'_sg' # Scanned with the SG scanner"
   ]
  },
  {
   "cell_type": "code",
   "execution_count": null,
   "metadata": {},
   "outputs": [],
   "source": [
    "class suffixSet(dict):\n",
    "    def __init__(self, suffix_string):\n",
    "        assert suffix_string.__class__ == str\n",
    "        assert suffix_string != \"\"\n",
    "        self.suffixes = suffix_string\n",
    "\n",
    "        def suf(regex):\n",
    "            if re.search(regex, self.suffixes) is not None:\n",
    "                return re.search(regex, self.suffixes)[0]\n",
    "            else:\n",
    "                return None\n",
    "\n",
    "        self.sheet = suf(re_string.sheet)\n",
    "        self.copy = suf(re_string.copy)\n",
    "        self.side = suf(re_string.side)\n",
    "        self.stitch = suf(re_string.stitch)\n",
    "        self.courage = suf(re_string.courage)\n",
    "        self.reduced = suf(re_string.reduced)\n",
    "        self.badscan = suf(re_string.badscan)\n",
    "        self.legacy = suf(re_string.legacy)\n",
    "        self.duplicate = suf(re_string.duplicate)\n",
    "        self.sg = suf(re_string.sg)\n",
    "    \n"
   ]
  },
  {
   "cell_type": "code",
   "execution_count": null,
   "metadata": {},
   "outputs": [],
   "source": [
    "class scanFile(dict):\n",
    "    def __init__(self, filename):\n",
    "        assert filename.__class__ == str\n",
    "        \n",
    "        result = re.search(re_string.agsmap_scan_number, filename)\n",
    "        if result[3] is None:\n",
    "            self.suffix_set = None\n",
    "        elif result[3] == '':\n",
    "            self.suffix_set = None\n",
    "        else:\n",
    "            self.suffix_set = suffixSet(result[3])"
   ]
  },
  {
   "cell_type": "code",
   "execution_count": 94,
   "metadata": {},
   "outputs": [],
   "source": [
    "def scan_number_search(file):\n",
    "    '''Checks a file Path .name to see if it matches the scan numbe regex'''\n",
    "    result = re.search(re_string.agsmap_scan_number, file.name)\n",
    "    if result is not None: return file.name"
   ]
  },
  {
   "cell_type": "code",
   "execution_count": 95,
   "metadata": {},
   "outputs": [],
   "source": [
    "rejects = []\n",
    "for file in file_list:\n",
    "    if not scan_number_search(file) is None:\n",
    "        scan_object = scanFile(file.name)\n",
    "        if scan_object.suffix_set is not None:\n",
    "            print(file.name, \"->\", scan_object.suffix_set.suffixes)\n",
    "        else:\n",
    "            print(file.name, \"-> None\")\n",
    "    else:\n",
    "        rejects.append(file)\n",
    "\n"
   ]
  },
  {
   "cell_type": "code",
   "execution_count": 96,
   "metadata": {},
   "outputs": [
    {
     "name": "stdout",
     "output_type": "stream",
     "text": [
      "[WindowsPath('S:/_R_GML_Archival_AGSL/Image_Archive/am - Maps/image archive am maps readme.txt')]\n"
     ]
    }
   ],
   "source": [
    "print(rejects)"
   ]
  },
  {
   "cell_type": "code",
   "execution_count": null,
   "metadata": {},
   "outputs": [],
   "source": []
  }
 ],
 "metadata": {
  "kernelspec": {
   "display_name": "Python 3",
   "language": "python",
   "name": "python3"
  },
  "language_info": {
   "codemirror_mode": {
    "name": "ipython",
    "version": 3
   },
   "file_extension": ".py",
   "mimetype": "text/x-python",
   "name": "python",
   "nbconvert_exporter": "python",
   "pygments_lexer": "ipython3",
   "version": "3.11.4"
  }
 },
 "nbformat": 4,
 "nbformat_minor": 2
}
